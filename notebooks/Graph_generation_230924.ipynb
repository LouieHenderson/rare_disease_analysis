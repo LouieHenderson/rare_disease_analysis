{
 "cells": [
  {
   "cell_type": "code",
   "execution_count": 79,
   "id": "e6b4ba52-dd5c-4dac-9ea6-8657f4c1ffc5",
   "metadata": {},
   "outputs": [],
   "source": [
    "from pyteomics import fasta\n",
    "import pandas as pd\n",
    "import numpy as np\n",
    "import re\n",
    "import time\n",
    "from datetime import datetime\n",
    "import json\n",
    "import os"
   ]
  },
  {
   "cell_type": "markdown",
   "id": "3b7aaaee-3575-4ee7-915d-9cdc596c05eb",
   "metadata": {},
   "source": [
    "### Data directories"
   ]
  },
  {
   "cell_type": "code",
   "execution_count": 80,
   "id": "b425bad0-1f59-4134-aa56-d761fd1e19c1",
   "metadata": {},
   "outputs": [],
   "source": [
    "#Data path\n",
    "datadir = os.path.abspath(\"../../Data/\")\n",
    "\n",
    "#Datasets\n",
    "OT_targets   = datadir+\"/OpenTargets/targets\" #OpenTargets\n",
    "Uniprot_hsap = datadir+\"/Uniprotdb/human_proteome/UP000005640_9606.fasta\" #Uniprot h. sapiens proteome\n",
    "Genemap      = datadir+\"/Uniprotdb/HUMAN_9606_idmapping.dat\" #Uniprot gene ID mapping"
   ]
  },
  {
   "cell_type": "markdown",
   "id": "fb813609-ba1e-4e2d-87a0-81652a1b8ad8",
   "metadata": {},
   "source": [
    "### Functions - Data parsing"
   ]
  },
  {
   "cell_type": "code",
   "execution_count": 81,
   "id": "08bdd9c3-cef5-4f02-b99e-73d9172e3028",
   "metadata": {},
   "outputs": [],
   "source": [
    "def parseUniprot(fastain):\n",
    "    #Generate dic of Uniprot: Gene, Sequences for proteome\n",
    "    proteome = {}\n",
    "    seq_file = fasta.UniProt(fastain)\n",
    "    for prot in seq_file:\n",
    "        unid = prot[0]['id']\n",
    "        name = prot[0]['name']\n",
    "        gene = prot[0]['gene_id']\n",
    "        seq  = prot[1]\n",
    "        #print(prot[0])\n",
    "        proteome.setdefault(unid, {\"Gene\": gene, \"Name\": name, \"Seq\": seq})\n",
    "    return proteome\n",
    "\n",
    "def unitoGene(genein):\n",
    "    #Generate dic of Uniprot to Gene names\n",
    "    with open(genein) as f:\n",
    "        read = f.readlines()\n",
    "    unigene = {}\n",
    "    for i in read:\n",
    "        splitr = i.split(\"\\t\")\n",
    "        if splitr[1] == \"Gene_Name\" or splitr[1] == \"Gene_Synonym\":\n",
    "            unigene.setdefault(splitr[0], [])\n",
    "            unigene[splitr[0]].append(splitr[2].strip(\"\\n\"))\n",
    "    return unigene \n",
    "\n",
    "def parseOTtarget(data_dir, df):\n",
    "    #Add new cols to df\n",
    "    intelcol = {\"description\": \"functionDescriptions\", \\\n",
    "                \"subcell_loc\": \"subcellularLocations\", \\\n",
    "                \"db_entries\": \"dbXrefs\", \\\n",
    "                \"bio_path\": \"pathways\", \\\n",
    "                \"tx_approaches\": \"tractability\"}\n",
    "    for col in intelcol:\n",
    "        df[col] = [list() for x in range(len(df.index))]\n",
    "\n",
    "    data = []\n",
    "    #Read in multi part .json to data list \n",
    "    for file in os.listdir(data_dir):\n",
    "        path = data_dir + \"/\" + str(file).replace(\"._\", \"\")\n",
    "        with open(path, \"r\") as f:\n",
    "            for line in f:\n",
    "                data.append(json.loads(line))\n",
    "    \n",
    "    #Retrieve intel from protein coding entries, annotate df\n",
    "    protlist = {}\n",
    "    for entry in data:\n",
    "        try:\n",
    "            entid = entry['proteinIds'][0]['id']\n",
    "        except:\n",
    "            entid = \"\"\n",
    "        if entid in df.index:\n",
    "            for j in intelcol:\n",
    "                if intelcol[j] in entry:\n",
    "                    df.loc[entid, j].append(entry[intelcol[j]])                                               \n",
    "\n",
    "    return df"
   ]
  },
  {
   "cell_type": "markdown",
   "id": "990bbc02-ef16-4126-8a5d-5e3bcf78d327",
   "metadata": {},
   "source": [
    "## Main code"
   ]
  },
  {
   "cell_type": "code",
   "execution_count": 124,
   "id": "f499ead6-9d68-43b1-aa7c-f75a402914fd",
   "metadata": {},
   "outputs": [],
   "source": [
    "#Define default proteome \n",
    "proteome = parseUniprot(Uniprot_hsap)\n",
    "#Update gene to likely recent id\n",
    "genemap  = unitoGene(Genemap)\n",
    "for i in proteome:\n",
    "    try:\n",
    "        proteome[i][\"Gene\"] = genemap[i][0]\n",
    "    except:\n",
    "        pass\n",
    "#Generate dataframe from dic\n",
    "initdf = pd.DataFrame.from_dict(proteome, orient='index')\n",
    "#Annotate with OpenTarget intel\n",
    "initdf = parseOTtarget(OT_targets, initdf)"
   ]
  },
  {
   "cell_type": "code",
   "execution_count": 127,
   "id": "172f6b57-3c7d-4449-a610-9d3ecf37f56f",
   "metadata": {},
   "outputs": [
    {
     "data": {
      "text/plain": [
       "Gene                                                          TP53\n",
       "Name                                    Cellular tumor antigen p53\n",
       "Seq              MEEPQSDPSVEPPLSQETFSDLWKLLPENNVLSPLPSQAMDDLMLS...\n",
       "description      [[Acts as a tumor suppressor in many tumor typ...\n",
       "subcell_loc      [[{'location': 'Cytoplasm', 'source': 'uniprot...\n",
       "db_entries       [[{'id': '11998', 'source': 'HGNC'}, {'id': '1...\n",
       "bio_path         [[{'pathwayId': 'R-HSA-3232118', 'pathway': 'S...\n",
       "tx_approaches    [[{'modality': 'SM', 'id': 'Approved Drug', 'v...\n",
       "Name: P04637, dtype: object"
      ]
     },
     "metadata": {},
     "output_type": "display_data"
    }
   ],
   "source": [
    "display(initdf.loc[\"P04637\"])"
   ]
  },
  {
   "cell_type": "code",
   "execution_count": null,
   "id": "cf8a74a9-eb54-4b93-bd39-1c3cc7d6087f",
   "metadata": {},
   "outputs": [],
   "source": []
  }
 ],
 "metadata": {
  "kernelspec": {
   "display_name": "Python 3 (ipykernel)",
   "language": "python",
   "name": "python3"
  },
  "language_info": {
   "codemirror_mode": {
    "name": "ipython",
    "version": 3
   },
   "file_extension": ".py",
   "mimetype": "text/x-python",
   "name": "python",
   "nbconvert_exporter": "python",
   "pygments_lexer": "ipython3",
   "version": "3.12.4"
  }
 },
 "nbformat": 4,
 "nbformat_minor": 5
}
