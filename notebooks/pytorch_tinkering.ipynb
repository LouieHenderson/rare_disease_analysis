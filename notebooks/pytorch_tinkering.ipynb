{
 "cells": [
  {
   "cell_type": "code",
   "execution_count": 1,
   "id": "d74cabee-1985-4a24-81cf-e2badde01427",
   "metadata": {},
   "outputs": [],
   "source": [
    "from pyteomics import fasta\n",
    "import pandas as pd\n",
    "import numpy as np\n",
    "import re\n",
    "import time\n",
    "from datetime import datetime\n",
    "import json\n",
    "import os"
   ]
  },
  {
   "cell_type": "code",
   "execution_count": 2,
   "id": "ba8a8215-ce84-4a59-abc8-a6e2b8e1afc7",
   "metadata": {},
   "outputs": [],
   "source": [
    "#Data path\n",
    "datadir = os.path.abspath(\"../../Data/\")"
   ]
  },
  {
   "cell_type": "markdown",
   "id": "040e7c61-4d58-4d27-8e50-61ac2d6ccafd",
   "metadata": {},
   "source": [
    "# Data prep"
   ]
  },
  {
   "cell_type": "code",
   "execution_count": 18,
   "id": "3396171f-4899-40fa-aaa0-93f08602fe7f",
   "metadata": {},
   "outputs": [],
   "source": [
    "import esm\n",
    "import torch\n",
    "import time\n",
    "%run \"../scripts/data_processing.py\"\n",
    "%run \"../scripts/node_edge_generation.py\"\n",
    "%run \"../scripts/graph_functions.py\""
   ]
  },
  {
   "cell_type": "code",
   "execution_count": 4,
   "id": "12bde78d-ee4e-41f0-a46d-7629895a10a7",
   "metadata": {},
   "outputs": [
    {
     "name": "stdout",
     "output_type": "stream",
     "text": [
      "Graph stopped\n",
      "Database import successful!\n",
      "Graph started\n"
     ]
    },
    {
     "data": {
      "text/html": [
       "<div>\n",
       "<style scoped>\n",
       "    .dataframe tbody tr th:only-of-type {\n",
       "        vertical-align: middle;\n",
       "    }\n",
       "\n",
       "    .dataframe tbody tr th {\n",
       "        vertical-align: top;\n",
       "    }\n",
       "\n",
       "    .dataframe thead th {\n",
       "        text-align: right;\n",
       "    }\n",
       "</style>\n",
       "<table border=\"1\" class=\"dataframe\">\n",
       "  <thead>\n",
       "    <tr style=\"text-align: right;\">\n",
       "      <th></th>\n",
       "      <th>Uniprot</th>\n",
       "      <th>Subcellular_location</th>\n",
       "      <th>Sequence</th>\n",
       "    </tr>\n",
       "  </thead>\n",
       "  <tbody>\n",
       "    <tr>\n",
       "      <th>0</th>\n",
       "      <td>A2RRL7</td>\n",
       "      <td>[['membrane ; single-pass type i membrane prot...</td>\n",
       "      <td>MQRLPAATRATLILSLAFASLHSACSAEASSSNSSSLTAHHPDPGT...</td>\n",
       "    </tr>\n",
       "    <tr>\n",
       "      <th>1</th>\n",
       "      <td>A8MYZ6</td>\n",
       "      <td>[['cytoplasm', 'nucleus']]</td>\n",
       "      <td>MAAKLRAHQVDVDPDFAPQSRPRSCTWPLPQPDLAGDEDGALGAGV...</td>\n",
       "    </tr>\n",
       "    <tr>\n",
       "      <th>2</th>\n",
       "      <td>O14804</td>\n",
       "      <td>[['cell membrane ; multi-pass membrane protein']]</td>\n",
       "      <td>MRAVFIQGAEEHPAAFCYQVNGSCPRTVHTLGIQLVIYLACAAGML...</td>\n",
       "    </tr>\n",
       "    <tr>\n",
       "      <th>3</th>\n",
       "      <td>O75459</td>\n",
       "      <td>[['nucleoli fibrillar center', 'mitochondria',...</td>\n",
       "      <td>MGFLRRLIYRRRPMIYVESSEESSDEQPDEVESPTQSQDSTPAEER...</td>\n",
       "    </tr>\n",
       "    <tr>\n",
       "      <th>4</th>\n",
       "      <td>O75912</td>\n",
       "      <td>[['cell projection, axon', 'cell projection, d...</td>\n",
       "      <td>MDAAGRGCHLLPLPAARGPARAPAAAAAAAASPPGPCSGAACAPSA...</td>\n",
       "    </tr>\n",
       "    <tr>\n",
       "      <th>...</th>\n",
       "      <td>...</td>\n",
       "      <td>...</td>\n",
       "      <td>...</td>\n",
       "    </tr>\n",
       "    <tr>\n",
       "      <th>18417</th>\n",
       "      <td>O60218</td>\n",
       "      <td>[['lysosome', 'secreted', 'cytosol', 'plasma m...</td>\n",
       "      <td>MATFVELSTKAKMPIVGLGTWKSPLGKVKEAVKVAIDAGYRHIDCA...</td>\n",
       "    </tr>\n",
       "    <tr>\n",
       "      <th>18418</th>\n",
       "      <td>O60336</td>\n",
       "      <td>[['cytoplasm', 'nucleus', 'cytoplasm, cytoskel...</td>\n",
       "      <td>MAVEGSTITSRIKNLLRSPSIKLRRSKAGNRREDLSSKVTLEKVLG...</td>\n",
       "    </tr>\n",
       "    <tr>\n",
       "      <th>18419</th>\n",
       "      <td>O60733</td>\n",
       "      <td>[['cytoplasm', 'cell membrane', 'mitochondrion...</td>\n",
       "      <td>MQFFGRLVNTFSGVTNLFSNPFRVKEVAVADYTSSDRVREEGQLIL...</td>\n",
       "    </tr>\n",
       "    <tr>\n",
       "      <th>18420</th>\n",
       "      <td>O60812</td>\n",
       "      <td>[['nucleus']]</td>\n",
       "      <td>MASNVTNKMDPHSMNSRVFIGNLNTLVVKKSDVEAIFSKYGKIAGC...</td>\n",
       "    </tr>\n",
       "    <tr>\n",
       "      <th>18421</th>\n",
       "      <td>O75128</td>\n",
       "      <td>[['cell membrane ; peripheral membrane protein...</td>\n",
       "      <td>MDAPRASAAKPPTGRKMKARAPPPPGKAATLHVHSDQKPPHDGALG...</td>\n",
       "    </tr>\n",
       "  </tbody>\n",
       "</table>\n",
       "<p>18422 rows × 3 columns</p>\n",
       "</div>"
      ],
      "text/plain": [
       "      Uniprot                               Subcellular_location  \\\n",
       "0      A2RRL7  [['membrane ; single-pass type i membrane prot...   \n",
       "1      A8MYZ6                         [['cytoplasm', 'nucleus']]   \n",
       "2      O14804  [['cell membrane ; multi-pass membrane protein']]   \n",
       "3      O75459  [['nucleoli fibrillar center', 'mitochondria',...   \n",
       "4      O75912  [['cell projection, axon', 'cell projection, d...   \n",
       "...       ...                                                ...   \n",
       "18417  O60218  [['lysosome', 'secreted', 'cytosol', 'plasma m...   \n",
       "18418  O60336  [['cytoplasm', 'nucleus', 'cytoplasm, cytoskel...   \n",
       "18419  O60733  [['cytoplasm', 'cell membrane', 'mitochondrion...   \n",
       "18420  O60812                                      [['nucleus']]   \n",
       "18421  O75128  [['cell membrane ; peripheral membrane protein...   \n",
       "\n",
       "                                                Sequence  \n",
       "0      MQRLPAATRATLILSLAFASLHSACSAEASSSNSSSLTAHHPDPGT...  \n",
       "1      MAAKLRAHQVDVDPDFAPQSRPRSCTWPLPQPDLAGDEDGALGAGV...  \n",
       "2      MRAVFIQGAEEHPAAFCYQVNGSCPRTVHTLGIQLVIYLACAAGML...  \n",
       "3      MGFLRRLIYRRRPMIYVESSEESSDEQPDEVESPTQSQDSTPAEER...  \n",
       "4      MDAAGRGCHLLPLPAARGPARAPAAAAAAAASPPGPCSGAACAPSA...  \n",
       "...                                                  ...  \n",
       "18417  MATFVELSTKAKMPIVGLGTWKSPLGKVKEAVKVAIDAGYRHIDCA...  \n",
       "18418  MAVEGSTITSRIKNLLRSPSIKLRRSKAGNRREDLSSKVTLEKVLG...  \n",
       "18419  MQFFGRLVNTFSGVTNLFSNPFRVKEVAVADYTSSDRVREEGQLIL...  \n",
       "18420  MASNVTNKMDPHSMNSRVFIGNLNTLVVKKSDVEAIFSKYGKIAGC...  \n",
       "18421  MDAPRASAAKPPTGRKMKARAPPPPGKAATLHVHSDQKPPHDGALG...  \n",
       "\n",
       "[18422 rows x 3 columns]"
      ]
     },
     "metadata": {},
     "output_type": "display_data"
    }
   ],
   "source": [
    "#Start graph\n",
    "startGraph(\"./pass_ent.txt\", \"./Results/\")\n",
    "\n",
    "#Submit query, retrieve sequences\n",
    "uri = \"bolt://localhost:7687\" \n",
    "driver = GraphDatabase.driver(uri)\n",
    "query_1 = [f'match (p:Protein)\\n \\\n",
    "            where not p.subcellular_location contains \"[]\" \\\n",
    "            return p.uniprot as Uniprot, p.subcellular_location as Subcellular_location, p.seq as Sequence']\n",
    "results_1 = run_query(query_1[0], driver)\n",
    "display(results_1)\n",
    "\n",
    "#Close connection\n",
    "driver.close()"
   ]
  },
  {
   "cell_type": "code",
   "execution_count": 16,
   "id": "7f23cec8-c578-403d-9c9b-eaa2df27550e",
   "metadata": {},
   "outputs": [],
   "source": [
    "# Load ESM-2 model\n",
    "model, alphabet = esm.pretrained.esm2_t33_650M_UR50D()\n",
    "batch_converter = alphabet.get_batch_converter()"
   ]
  },
  {
   "cell_type": "code",
   "execution_count": 30,
   "id": "79218dbb-febe-413c-9328-aae873130cfa",
   "metadata": {},
   "outputs": [
    {
     "name": "stdout",
     "output_type": "stream",
     "text": [
      "18422 18422\n",
      "13816 4606\n"
     ]
    }
   ],
   "source": [
    "#Split to test + train datasets\n",
    "from sklearn.model_selection import train_test_split\n",
    "print(len(results_1[\"Sequence\"].values), len(results_1[\"Uniprot\"].values))\n",
    "train_sequences, test_sequences, train_labels, test_labels = train_test_split(results_1[\"Sequence\"].values, results_1[\"Uniprot\"].values, test_size=0.25, shuffle=True)\n",
    "print(len(train_sequences), len(test_sequences))"
   ]
  },
  {
   "cell_type": "code",
   "execution_count": 12,
   "id": "ae76f0b2-0114-4bc5-9fa7-f38c2792129b",
   "metadata": {},
   "outputs": [
    {
     "name": "stdout",
     "output_type": "stream",
     "text": [
      "('A2RRL7', 'MQRLPAATRATLILSLAFASLHSACSAEASSSNSSSLTAHHPDPGTLEQCLNVDFCPQAARCCRTGVDEYGWIAAAVGWSLWFLTLILLCVDKLMKLTPDEPKDLQA')\n",
      "('A8MYZ6', 'MAAKLRAHQVDVDPDFAPQSRPRSCTWPLPQPDLAGDEDGALGAGVAEGAEDCGPERRATAPAMAPAPPLGAEVGPLRKAKSSRRNAWGNLSYADLITKAIESAPDKRLTLSQIYDWMVRYVPYFKDKGDSNSSAGWKNSIRHNLSLHTRFIRVQNEGTGKSSWWMLNPEGGKTGKTPRRRAVSMDNGAKFLRIKGKASKKKQLQAPERSPDDSSPSAPAPGPVPAAAKWAASPASHASDDYEAWADFRGGGRPLLGEAAELEDDEALEALAPSSPLMYPSPASALSPALGSRCPGELPRLAELGGPLGLHGGGGAGLPEGLLDGAQDAYGPRPAPRPGPVLGAPGELALAGAAAAYPGKGAAPYAPPAPSRSALAHPISLMTLPGEAGAAGLAPPGHAAAFGGPPGGLLLDALPGPYAAAAAGPLGAAPDRFPADLDLDMFSGSLECDVESIILNDFMDSDEMDFNFDSALPPPPPGLAGAPPPNQSWVPG')\n",
      "('O14804', 'MRAVFIQGAEEHPAAFCYQVNGSCPRTVHTLGIQLVIYLACAAGMLIIVLGNVFVAFAVSYFKALHTPTNFLLLSLALADMFLGLLVLPLSTIRSVESCWFFGDFLCRLHTYLDTLFCLTSIFHLCFISIDRHCAICDPLLYPSKFTVRVALRYILAGWGVPAAYTSLFLYTDVVETRLSQWLEEMPCVGSCQLLLNKFWGWLNFPLFFVPCLIMISLYVKIFVVATRQAQQITTLSKSLAGAAKHERKAAKTLGIAVGIYLLCWLPFTIDTMVDSLLHFITPPLVFDIFIWFAYFNSACNPIIYVFSYQWFRKALKLTLSQKVFSPQTRTVDLYQE')\n",
      "('O75459', 'MGFLRRLIYRRRPMIYVESSEESSDEQPDEVESPTQSQDSTPAEEREDEGASAAQGQEPEADSQELVQPKTGCELGDGPDTKRVCLRNEEQMKLPAEGPEPEADSQEQVHPKTGCERGDGPDVQELGLPNPEEVKTPEEDEGQSQP')\n",
      "('O75912', 'MDAAGRGCHLLPLPAARGPARAPAAAAAAAASPPGPCSGAACAPSAAAGAGAMNPSSSAGEEKGATGGSSSSGSGAGSCCLGAEGGADPRGAGSAAAAGAAALDEPAAAGQKEKDEALEEKLRNLTFRKQVSYRKAISRAGLQHLAPAHPLSLPVANGPAKEPRATLDWSENAVNGEHLWLETNVSGDLCYLGEENCQVRFAKSALRRKCAVCKIVVHTACIEQLEKINFRCKPTFREGGSRSPRENFVRHHWVHRRRQEGKCKQCGKGFQQKFSFHSKEIVAISCSWCKQAFHNKVTCFMLHHIEEPCSLGAHAAVIVPPTWIIKVKKPQNSLKASNRKKKRTSFKRKASKRGMEQENKGRPFVIKPISSPLMKPLLVFVNPKSGGNQGTKVLQMFMWYLNPRQVFDLSQEGPKDALELYRKVPNLRILACGGDGTVGWILSILDELQLSPQPPVGVLPLGTGNDLARTLNWGGGYTDEPVSKILCQVEDGTVVQLDRWNLHVERNPDLPPEELEDGVCKLPLNVFNNYFSLGFDAHVTLEFHESREANPEKFNSRFRNKMFYAGAAFSDFLQRSSRDLSKHVKVVCDGTDLTPKIQELKFQCIVFLNIPRYCAGTMPWGNPGDHHDFEPQRHDDGYIEVIGFTMASLAALQVGGHGERLHQCREVMLLTYKSIPMQVDGEPCRLAPAMIRISLRNQANMVQKSKRRTSMPLLNDPQSVPDRLRIRVNKISLQDYEGFHYDKEKLREASISDWLRTIAGELVQSFGAIPLGILVVRGDCDLETCRMYIDRLQEDLQSVSSGSQRVHYQDHETSFPRALSAQRLSPRWCFLDDRSQEHLHFVMEISQDEIFILDPDMVVSQPAGTPPGMPDLVVEQASGISDWWNPALRKRMLSDSGLGMIAPYYEDSDLKDLSHSRVLQSPVSSEDHAILQAVIAGDLMKLIESYKNGGSLLIQGPDHCSLLHYAAKTGNGEIVKYILDHGPSELLDMADSETGETALHKAACQRNRAVCQLLVDAGASLRKTDSKGKTPQERAQQAGDPDLAAYLESRQNYKVIGHEDLETAV')\n",
      "('O94855', 'MSQQGYVATPPYSQPQPGIGLSPPHYGHYGDPSHTASPTGMMKPAGPLGATATRGMLPPGPPPPGPHQFGQNGAHATGHPPQRFPGPPPVNNVASSHAPYQPSAQSSYPGPISTSSVTQLGSQLSAMQINSYGSGMAPPSQGPPGPLSATSLQTPPRPPQPSILQPGSQVLPPPPTTLNGPGASPLPLPMYRPDGLSGPPPPNAQYQPPPLPGQTLGAGYPPQQANSGPQMAGAQLSYPGGFPGGPAQMAGPPQPQKKLDPDSIPSPIQVIENDRASRGGQVYATNTRGQIPPLVTTDCMIQDQGNASPRFIRCTTYCFPCTSDMAKQAQIPLAAVIKPFATIPSNESPLYLVNHGESGPVRCNRCKAYMCPFMQFIEGGRRYQCGFCNCVNDVPPFYFQHLDHIGRRLDHYEKPELSLGSYEYVATLDYCRKSKPPNPPAFIFMIDVSYSNIKNGLVKLICEELKTMLEKIPKEEQEETSAIRVGFITYNKVLHFFNVKSNLAQPQMMVVTDVGEVFVPLLDGFLVNYQESQSVIHNLLDQIPDMFADSNENETVFAPVIQAGMEALKAADCPGKLFIFHSSLPTAEAPGKLKNRDDKKLVNTDKEKILFQPQTNVYDSLAKDCVAHGCSVTLFLFPSQYVDVASLGLVPQLTGGTLYKYNNFQMHLDRQQFLNDLRNDIEKKIGFDAIMRVRTSTGFRATDFFGGILMNNTTDVEMAAIDCDKAVTVEFKHDDKLSEDSGALIQCAVLYTTISGQRRLRIHNLGLNCSSQLADLYKSCETDALINFFAKSAFKAVLHQPLKVIREILVNQTAHMLACYRKNCASPSAASQLILPDSMKVLPVYMNCLLKNCVLLSRPEISTDERAYQRQLVMTMGVADSQLFFYPQLLPIHTLDVKSTMLPAAVRCSESRLSEEGIFLLANGLHMFLWLGVSSPPELIQGIFNVPSFAHINTDMTLLPEVGNPYSQQLRMIMGIIQQKRPYSMKLTIVKQREQPEMVFRQFLVEDKGLYGGSSYVDFLCCVHKEICQLLN')\n",
      "('P07099', 'MWLEILLTSVLGFAIYWFISRDKEETLPLEDGWWGPGTRSAAREDDSIRPFKVETSDEEIHDLHQRIDKFRFTPPLEDSCFHYGFNSNYLKKVISYWRNEFDWKKQVEILNRYPHFKTKIEGLDIHFIHVKPPQLPAGHTPKPLLMVHGWPGSFYEFYKIIPLLTDPKNHGLSDEHVFEVICPSIPGYGFSEASSKKGFNSVATARIFYKLMLRLGFQEFYIQGGDWGSLICTNMAQLVPSHVKGLHLNMALVLSNFSTLTLLLGQRFGRFLGLTERDVELLYPVKEKVFYSLMRESGYMHIQCTKPDTVGSALNDSPVGLAAYILEKFSTWTNTEFRYLEDGGLERKFSLDDLLTNVMLYWTTGTIISSQRFYKENLGQGWMTQKHERMKVYVPTGFSAFPFELLHTPEKWVRFKYPKLISYSYMVRGGHFAAFEEPELLAQDIRKFLSVLERQ')\n",
      "('P0C851', 'MTMETLPKVLEVDEKSPEAKDLLPSQTASSLCISSRSESVWTTTPRSNWEIYRKPIVIMSVGGAILLFGVVITCLAYTLKLSDKSLSILKMVGPGFLSLGLMMLVCGLVWVPIIKKKQKHRQKSNFLRSLKSFFLTR')\n",
      "('P12757', 'MENLQTNFSLVQGSTKKLNGMGDDGSPPAKKMITDIHANGKTINKVPTVKKEHLDDYGEAPVETDGEHVKRTCTSVPETLHLNPSLKHTLAQFHLSSQSSLGGPAAFSARHSQESMSPTVFLPLPSPQVLPGPLLIPSDSSTELTQTVLEGESISCFQVGGEKRLCLPQVLNSVLREFTLQQINTVCDELYIYCSRCTSDQLHILKVLGILPFNAPSCGLITLTDAQRLCNALLRPRTFPQNGSVLPAKSSLAQLKETGSAFEVEHECLGKCQGLFAPQFYVQPDAPCIQCLECCGMFAPQTFVMHSHRSPDKRTCHWGFESAKWHCYLHVNQKYLGTPEEKKLKIILEEMKEKFSMRSGKRNQSKTDAPSGMELQSWYPVIKQEGDHVSQTHSFLHPSYYLYMCDKVVAPNVSLTSAVSQSKELTKTEASKSISRQSEKAHSSGKLQKTVSYPDVSLEEQEKMDLKTSRELCSRLDASISNNSTSKRKSESATCNLVRDINKVGIGLVAAASSPLLVKDVICEDDKGKIMEEVMRTYLKQQEKLNLILQKKQQLQMEVKMLSSSKSMKELTEEQQNLQKELESLQNEHAQRMEEFYVEQKDLEKKLEQIMKQKCTCDSNLEKDKEAEYAGQLAELRQRLDHAEADRQELQDELRQEREARQKLEMMIKELKLQILKSSKTAKE')\n",
      "('P19013', 'MIARQQCVRGGPRGFSCGSAIVGGGKRGAFSSVSMSGGAGRCSSGGFGSRSLYNLRGNKSISMSVAGSRQGACFGGAGGFGTGGFGGGFGGSFSGKGGPGFPVCPAGGIQEVTINQSLLTPLHVEIDPEIQKVRTEEREQIKLLNNKFASFIDKVQFLEQQNKVLETKWNLLQQQTTTTSSKNLEPLFETYLSVLRKQLDTLGNDKGRLQSELKTMQDSVEDFKTKYEEEINKRTAAENDFVVLKKDVDAAYLNKVELEAKVDSLNDEINFLKVLYDAELSQMQTHVSDTSVVLSMDNNRNLDLDSIIAEVRAQYEEIAQRSKAEAEALYQTKVQQLQISVDQHGDNLKNTKSEIAELNRMIQRLRAEIENIKKQCQTLQVSVADAEQRGENALKDAHSKRVELEAALQQAKEELARMLREYQELMSVKLALDIEIATYRKLLEGEEYRMSGECQSAVSISVVSGSTSTGGISGGLGSGSGFGLSSGFGSGSGSGFGFGGSVSGSSSSKIISTTTLNKRR')\n"
     ]
    }
   ],
   "source": [
    "#Prepare sequences for tokenisation\n",
    "tuplist = []\n",
    "for index, row in results_1.iterrows():\n",
    "    tuplist.append((row[\"Uniprot\"], row[\"Sequence\"]))\n",
    "\n",
    "for i in tuplist[0:10]:\n",
    "    print(i)"
   ]
  },
  {
   "cell_type": "code",
   "execution_count": 20,
   "id": "d72ac0db-8a16-4e55-88e4-1d345230893d",
   "metadata": {},
   "outputs": [
    {
     "name": "stdout",
     "output_type": "stream",
     "text": [
      "Time taken (Tokenisation) = 23.698\n"
     ]
    }
   ],
   "source": [
    "#Tokenise + pad sequences\n",
    "start = time.time()\n",
    "batch_labels, batch_strs, batch_tokens = batch_converter(tuplist)\n",
    "print(f\"Time taken (Tokenisation) = {round(time.time()-start, 3)} seconds\")"
   ]
  },
  {
   "cell_type": "code",
   "execution_count": 23,
   "id": "1507c3f6-171a-4950-ab81-a9b0c89cfd81",
   "metadata": {},
   "outputs": [
    {
     "name": "stdout",
     "output_type": "stream",
     "text": [
      "18422 18422 18422\n",
      "tensor([[ 0, 20, 16,  ...,  1,  1,  1],\n",
      "        [ 0, 20,  5,  ...,  1,  1,  1],\n",
      "        [ 0, 20, 10,  ...,  1,  1,  1],\n",
      "        ...,\n",
      "        [ 0, 20, 11,  ...,  1,  1,  1],\n",
      "        [ 0, 20,  9,  ...,  1,  1,  1],\n",
      "        [ 0, 20, 12,  ...,  1,  1,  1]])\n"
     ]
    }
   ],
   "source": [
    "print(len(batch_labels), len(batch_strs), len(batch_tokens))\n",
    "print(batch_tokens[0:10])"
   ]
  },
  {
   "cell_type": "code",
   "execution_count": 24,
   "id": "fbed49db-5214-4c43-84bf-d5bad9172aa9",
   "metadata": {},
   "outputs": [
    {
     "name": "stdout",
     "output_type": "stream",
     "text": [
      "Tokenized sequences shape: torch.Size([18422, 34352])\n"
     ]
    }
   ],
   "source": [
    "print(\"Tokenized sequences shape:\", batch_tokens.shape)"
   ]
  },
  {
   "cell_type": "markdown",
   "id": "a294969e-5020-49b5-88ed-cdc2e04c65e8",
   "metadata": {},
   "source": [
    "# Subcellular localisation prediction example"
   ]
  },
  {
   "cell_type": "code",
   "execution_count": 2,
   "id": "97c85225-e12e-4dab-892b-9591170da7a4",
   "metadata": {},
   "outputs": [],
   "source": [
    "import torch\n",
    "import torch.nn as nn\n",
    "import torch.optim as optim\n",
    "from sklearn.model_selection import train_test_split\n",
    "from sklearn.preprocessing import LabelEncoder\n",
    "from sklearn.metrics import accuracy_score\n",
    "import pandas as pd\n",
    "import numpy as np"
   ]
  },
  {
   "cell_type": "code",
   "execution_count": null,
   "id": "56fbac2f-b575-499f-8095-5e67f74b7a39",
   "metadata": {},
   "outputs": [],
   "source": [
    "'''\n",
    "uniprot_proteomics_dataset.csv\n",
    "\n",
    "protein_id,sequence_embedding,subcellular_location\n",
    "P12345,\"[0.1, 0.2, 0.3, 0.4, 0.5]\",cytoplasm\n",
    "Q67890,\"[0.5, 0.4, 0.3, 0.2, 0.1]\",nucleus\n",
    "A11223,\"[0.2, 0.3, 0.4, 0.5, 0.6]\",mitochondrion\n",
    "B33445,\"[0.3, 0.2, 0.1, 0.4, 0.5]\",plasma membrane\n",
    "C55678,\"[0.6, 0.5, 0.4, 0.3, 0.2]\",extracellular region\n",
    "'''"
   ]
  },
  {
   "cell_type": "code",
   "execution_count": null,
   "id": "1f6a3741-3333-41f2-95f2-ceef31e9badc",
   "metadata": {},
   "outputs": [],
   "source": [
    "#Step 2: Load and Preprocess the Dataset\n",
    "# Load dataset\n",
    "data = pd.read_csv(\"uniprot_proteomics_dataset.csv\")\n",
    "\n",
    "# Inspect dataset\n",
    "print(data.head())\n",
    "\n",
    "# Extract relevant features and labels\n",
    "sequence_features = np.array(data[\"sequence_embedding\"].apply(eval).tolist())  # Assuming embeddings are precomputed\n",
    "labels = data[\"subcellular_location\"]\n",
    "\n",
    "# Encode labels\n",
    "label_encoder = LabelEncoder()\n",
    "encoded_labels = label_encoder.fit_transform(labels)\n",
    "\n",
    "# Split dataset\n",
    "X_train, X_test, y_train, y_test = train_test_split(sequence_features, encoded_labels, test_size=0.2, random_state=42)\n",
    "\n",
    "# Convert to tensors\n",
    "X_train_tensor = torch.tensor(X_train, dtype=torch.float32)\n",
    "y_train_tensor = torch.tensor(y_train, dtype=torch.long)\n",
    "X_test_tensor = torch.tensor(X_test, dtype=torch.float32)\n",
    "y_test_tensor = torch.tensor(y_test, dtype=torch.long)"
   ]
  },
  {
   "cell_type": "code",
   "execution_count": null,
   "id": "1dccf471-4914-46b6-bf41-dc07fea34872",
   "metadata": {},
   "outputs": [],
   "source": [
    "#Step 3: Define the Neural Network\n",
    "class ProteinClassifier(nn.Module):\n",
    "    def __init__(self, input_dim, num_classes):\n",
    "        super(ProteinClassifier, self).__init__()\n",
    "        self.fc1 = nn.Linear(input_dim, 128)\n",
    "        self.fc2 = nn.Linear(128, 64)\n",
    "        self.fc3 = nn.Linear(64, num_classes)\n",
    "        self.relu = nn.ReLU()\n",
    "        self.dropout = nn.Dropout(0.5)\n",
    "    \n",
    "    def forward(self, x):\n",
    "        x = self.relu(self.fc1(x))\n",
    "        x = self.dropout(x)\n",
    "        x = self.relu(self.fc2(x))\n",
    "        x = self.fc3(x)\n",
    "        return x"
   ]
  },
  {
   "cell_type": "code",
   "execution_count": null,
   "id": "67c24e2c-dae2-40f5-9e61-8cd31420f443",
   "metadata": {},
   "outputs": [],
   "source": [
    "#Step 4: Train the Model\n",
    "# Initialize model, loss function, and optimizer\n",
    "input_dim = X_train.shape[1]\n",
    "num_classes = len(label_encoder.classes_)\n",
    "model = ProteinClassifier(input_dim, num_classes)\n",
    "\n",
    "criterion = nn.CrossEntropyLoss()\n",
    "optimizer = optim.Adam(model.parameters(), lr=0.001)\n",
    "\n",
    "# Training loop\n",
    "num_epochs = 20\n",
    "batch_size = 32\n",
    "\n",
    "for epoch in range(num_epochs):\n",
    "    model.train()\n",
    "    epoch_loss = 0.0\n",
    "    num_batches = len(X_train_tensor) // batch_size\n",
    "\n",
    "    for i in range(0, len(X_train_tensor), batch_size):\n",
    "        # Get batch\n",
    "        X_batch = X_train_tensor[i:i+batch_size]\n",
    "        y_batch = y_train_tensor[i:i+batch_size]\n",
    "        \n",
    "        # Forward pass\n",
    "        outputs = model(X_batch)\n",
    "        loss = criterion(outputs, y_batch)\n",
    "        \n",
    "        # Backward pass and optimization\n",
    "        optimizer.zero_grad()\n",
    "        loss.backward()\n",
    "        optimizer.step()\n",
    "        \n",
    "        epoch_loss += loss.item()\n",
    "    \n",
    "    print(f\"Epoch [{epoch+1}/{num_epochs}], Loss: {epoch_loss/num_batches:.4f}\")\n"
   ]
  },
  {
   "cell_type": "code",
   "execution_count": null,
   "id": "04c2ec70-78d2-4acc-96a1-4a1c92d6c564",
   "metadata": {},
   "outputs": [],
   "source": [
    "#Step 5: Evaluate the Model\n",
    "# Evaluation\n",
    "model.eval()\n",
    "with torch.no_grad():\n",
    "    outputs = model(X_test_tensor)\n",
    "    _, predicted = torch.max(outputs, 1)\n",
    "    accuracy = accuracy_score(y_test_tensor.numpy(), predicted.numpy())\n",
    "    print(f\"Test Accuracy: {accuracy * 100:.2f}%\")"
   ]
  },
  {
   "cell_type": "code",
   "execution_count": null,
   "id": "d848fb40-237c-47d8-ba13-1117dca0a163",
   "metadata": {},
   "outputs": [],
   "source": [
    "#Step 6: Save and Load the Model\n",
    "# Save the model\n",
    "torch.save(model.state_dict(), \"protein_classifier.pth\")\n",
    "\n",
    "# Load the model\n",
    "loaded_model = ProteinClassifier(input_dim, num_classes)\n",
    "loaded_model.load_state_dict(torch.load(\"protein_classifier.pth\"))\n",
    "loaded_model.eval()"
   ]
  },
  {
   "cell_type": "markdown",
   "id": "50ca3b0a-b098-4cdd-abcf-761e712c5b97",
   "metadata": {},
   "source": [
    "# Tutorials"
   ]
  },
  {
   "cell_type": "markdown",
   "id": "1d5d3ac3-a317-44e8-acb0-dfb5b9472623",
   "metadata": {},
   "source": [
    "## Resources"
   ]
  },
  {
   "cell_type": "code",
   "execution_count": null,
   "id": "332db0ba-6ef9-431a-a4be-9f419684b0db",
   "metadata": {},
   "outputs": [],
   "source": [
    "Git\n",
    "#https://github.com/liyu95/Deep_learning_examples/tree/master\n",
    "#https://github.com/Moeinh77/blog_posts_codes/blob/main/pfam_esm.ipynb\n",
    "\n",
    "Papers\n",
    "#https://www.nature.com/articles/s41598-022-12201-9 | Prediction of protein–protein interaction using graph neural networks\n",
    "\n",
    "Other\n",
    "#https://medium.com/@moeinh77/protein-sequence-analyses-with-transformers-using-pytorch-and-huggingface-11a478bcc602\n",
    "#https://huggingface.co/blog/AmelieSchreiber/protein-binding-partners-with-esm2"
   ]
  },
  {
   "cell_type": "markdown",
   "id": "9bf9f9f3-bc14-4d05-b573-3b6783931cce",
   "metadata": {},
   "source": [
    "## Quickstart - PyTorch"
   ]
  },
  {
   "cell_type": "code",
   "execution_count": 2,
   "id": "48391cd4-85f8-4bf7-b951-f5219d1fc983",
   "metadata": {},
   "outputs": [],
   "source": [
    "#https://pytorch.org/tutorials/beginner/basics/quickstart_tutorial.html\n",
    "import torch\n",
    "from torch import nn\n",
    "from torch.utils.data import DataLoader\n",
    "from torchvision import datasets\n",
    "from torchvision.transforms import ToTensor\n",
    "import matplotlib.pyplot as plt"
   ]
  },
  {
   "cell_type": "code",
   "execution_count": 3,
   "id": "9910c465-5803-4af8-a768-8751ca065ff8",
   "metadata": {},
   "outputs": [],
   "source": [
    "# Download training data from open datasets.\n",
    "training_data = datasets.FashionMNIST(\n",
    "    root=\"data\",\n",
    "    train=True,\n",
    "    download=True,\n",
    "    transform=ToTensor(),\n",
    ")\n",
    "\n",
    "# Download test data from open datasets.\n",
    "test_data = datasets.FashionMNIST(\n",
    "    root=\"data\",\n",
    "    train=False,\n",
    "    download=True,\n",
    "    transform=ToTensor(),\n",
    ")"
   ]
  },
  {
   "cell_type": "code",
   "execution_count": 4,
   "id": "71bc904e-46cf-44b1-9d70-08fe72de654e",
   "metadata": {},
   "outputs": [
    {
     "name": "stdout",
     "output_type": "stream",
     "text": [
      "Shape of X [N, C, H, W]: torch.Size([64, 1, 28, 28])\n",
      "Shape of y: torch.Size([64]) torch.int64\n"
     ]
    }
   ],
   "source": [
    "batch_size = 64\n",
    "\n",
    "# Create data loaders.\n",
    "train_dataloader = DataLoader(training_data, batch_size=batch_size)\n",
    "test_dataloader = DataLoader(test_data, batch_size=batch_size)\n",
    "\n",
    "for X, y in test_dataloader:\n",
    "    print(f\"Shape of X [N, C, H, W]: {X.shape}\")\n",
    "    print(f\"Shape of y: {y.shape} {y.dtype}\")\n",
    "    break"
   ]
  },
  {
   "cell_type": "code",
   "execution_count": 5,
   "id": "a07b7950-cefa-480b-ba37-69dfee4df961",
   "metadata": {},
   "outputs": [
    {
     "name": "stdout",
     "output_type": "stream",
     "text": [
      "Using cuda device\n",
      "NeuralNetwork(\n",
      "  (flatten): Flatten(start_dim=1, end_dim=-1)\n",
      "  (linear_relu_stack): Sequential(\n",
      "    (0): Linear(in_features=784, out_features=512, bias=True)\n",
      "    (1): ReLU()\n",
      "    (2): Linear(in_features=512, out_features=512, bias=True)\n",
      "    (3): ReLU()\n",
      "    (4): Linear(in_features=512, out_features=10, bias=True)\n",
      "  )\n",
      ")\n"
     ]
    }
   ],
   "source": [
    "# Get cpu, gpu or mps device for training.\n",
    "device = (\n",
    "    \"cuda\"\n",
    "    if torch.cuda.is_available()\n",
    "    else \"mps\"\n",
    "    if torch.backends.mps.is_available()\n",
    "    else \"cpu\"\n",
    ")\n",
    "print(f\"Using {device} device\")\n",
    "\n",
    "# Define model\n",
    "class NeuralNetwork(nn.Module):\n",
    "    def __init__(self):\n",
    "        super().__init__()\n",
    "        self.flatten = nn.Flatten()\n",
    "        self.linear_relu_stack = nn.Sequential(\n",
    "            nn.Linear(28*28, 512),\n",
    "            nn.ReLU(),\n",
    "            nn.Linear(512, 512),\n",
    "            nn.ReLU(),\n",
    "            nn.Linear(512, 10)\n",
    "        )\n",
    "\n",
    "    def forward(self, x):\n",
    "        x = self.flatten(x)\n",
    "        logits = self.linear_relu_stack(x)\n",
    "        return logits\n",
    "\n",
    "model = NeuralNetwork().to(device)\n",
    "print(model)"
   ]
  },
  {
   "cell_type": "code",
   "execution_count": 6,
   "id": "cffe34da-20b6-4375-bfac-b4e5ef1e8405",
   "metadata": {},
   "outputs": [],
   "source": [
    "loss_fn = nn.CrossEntropyLoss()\n",
    "optimizer = torch.optim.SGD(model.parameters(), lr=1e-3)"
   ]
  },
  {
   "cell_type": "code",
   "execution_count": 7,
   "id": "64112938-c34a-4bf9-84c1-49131c81a9b5",
   "metadata": {},
   "outputs": [],
   "source": [
    "def train(dataloader, model, loss_fn, optimizer):\n",
    "    size = len(dataloader.dataset)\n",
    "    model.train()\n",
    "    for batch, (X, y) in enumerate(dataloader):\n",
    "        X, y = X.to(device), y.to(device)\n",
    "\n",
    "        # Compute prediction error\n",
    "        pred = model(X)\n",
    "        loss = loss_fn(pred, y)\n",
    "\n",
    "        # Backpropagation\n",
    "        loss.backward()\n",
    "        optimizer.step()\n",
    "        optimizer.zero_grad()\n",
    "\n",
    "        if batch % 100 == 0:\n",
    "            loss, current = loss.item(), (batch + 1) * len(X)\n",
    "            print(f\"loss: {loss:>7f}  [{current:>5d}/{size:>5d}]\")\n",
    "            \n",
    "def test(dataloader, model, loss_fn):\n",
    "    size = len(dataloader.dataset)\n",
    "    num_batches = len(dataloader)\n",
    "    model.eval()\n",
    "    test_loss, correct = 0, 0\n",
    "    with torch.no_grad():\n",
    "        for X, y in dataloader:\n",
    "            X, y = X.to(device), y.to(device)\n",
    "            pred = model(X)\n",
    "            test_loss += loss_fn(pred, y).item()\n",
    "            correct += (pred.argmax(1) == y).type(torch.float).sum().item()\n",
    "    test_loss /= num_batches\n",
    "    correct /= size\n",
    "    print(f\"Test Error: \\n Accuracy: {(100*correct):>0.1f}%, Avg loss: {test_loss:>8f} \\n\")"
   ]
  },
  {
   "cell_type": "code",
   "execution_count": 8,
   "id": "6bd76039-c92b-440c-a5dd-577d13f9001a",
   "metadata": {
    "scrolled": true
   },
   "outputs": [
    {
     "name": "stdout",
     "output_type": "stream",
     "text": [
      "Epoch 1\n",
      "-------------------------------\n",
      "loss: 2.304448  [   64/60000]\n",
      "loss: 2.292910  [ 6464/60000]\n",
      "loss: 2.273953  [12864/60000]\n",
      "loss: 2.263016  [19264/60000]\n",
      "loss: 2.247937  [25664/60000]\n",
      "loss: 2.228266  [32064/60000]\n",
      "loss: 2.224614  [38464/60000]\n",
      "loss: 2.200186  [44864/60000]\n",
      "loss: 2.197158  [51264/60000]\n",
      "loss: 2.157077  [57664/60000]\n",
      "Test Error: \n",
      " Accuracy: 51.1%, Avg loss: 2.159638 \n",
      "\n",
      "Epoch 2\n",
      "-------------------------------\n",
      "loss: 2.171416  [   64/60000]\n",
      "loss: 2.164228  [ 6464/60000]\n",
      "loss: 2.108040  [12864/60000]\n",
      "loss: 2.119828  [19264/60000]\n",
      "loss: 2.079676  [25664/60000]\n",
      "loss: 2.024949  [32064/60000]\n",
      "loss: 2.040596  [38464/60000]\n",
      "loss: 1.978519  [44864/60000]\n",
      "loss: 1.972165  [51264/60000]\n",
      "loss: 1.898293  [57664/60000]\n",
      "Test Error: \n",
      " Accuracy: 61.8%, Avg loss: 1.905006 \n",
      "\n",
      "Epoch 3\n",
      "-------------------------------\n",
      "loss: 1.931086  [   64/60000]\n",
      "loss: 1.908843  [ 6464/60000]\n",
      "loss: 1.793041  [12864/60000]\n",
      "loss: 1.826890  [19264/60000]\n",
      "loss: 1.733726  [25664/60000]\n",
      "loss: 1.683860  [32064/60000]\n",
      "loss: 1.691060  [38464/60000]\n",
      "loss: 1.608761  [44864/60000]\n",
      "loss: 1.616610  [51264/60000]\n",
      "loss: 1.506858  [57664/60000]\n",
      "Test Error: \n",
      " Accuracy: 63.4%, Avg loss: 1.533598 \n",
      "\n",
      "Epoch 4\n",
      "-------------------------------\n",
      "loss: 1.593785  [   64/60000]\n",
      "loss: 1.563948  [ 6464/60000]\n",
      "loss: 1.410638  [12864/60000]\n",
      "loss: 1.475510  [19264/60000]\n",
      "loss: 1.368819  [25664/60000]\n",
      "loss: 1.365017  [32064/60000]\n",
      "loss: 1.366508  [38464/60000]\n",
      "loss: 1.306904  [44864/60000]\n",
      "loss: 1.331277  [51264/60000]\n",
      "loss: 1.224342  [57664/60000]\n",
      "Test Error: \n",
      " Accuracy: 64.0%, Avg loss: 1.258560 \n",
      "\n",
      "Epoch 5\n",
      "-------------------------------\n",
      "loss: 1.331611  [   64/60000]\n",
      "loss: 1.319236  [ 6464/60000]\n",
      "loss: 1.148906  [12864/60000]\n",
      "loss: 1.247094  [19264/60000]\n",
      "loss: 1.132418  [25664/60000]\n",
      "loss: 1.159741  [32064/60000]\n",
      "loss: 1.169942  [38464/60000]\n",
      "loss: 1.122267  [44864/60000]\n",
      "loss: 1.153472  [51264/60000]\n",
      "loss: 1.065053  [57664/60000]\n",
      "Test Error: \n",
      " Accuracy: 64.8%, Avg loss: 1.091395 \n",
      "\n",
      "Done!\n"
     ]
    }
   ],
   "source": [
    "epochs = 5\n",
    "for t in range(epochs):\n",
    "    print(f\"Epoch {t+1}\\n-------------------------------\")\n",
    "    train(train_dataloader, model, loss_fn, optimizer)\n",
    "    test(test_dataloader, model, loss_fn)\n",
    "print(\"Done!\")"
   ]
  },
  {
   "cell_type": "code",
   "execution_count": 11,
   "id": "2ef05121-3ebc-409f-81b6-a27159585ed7",
   "metadata": {},
   "outputs": [
    {
     "name": "stdout",
     "output_type": "stream",
     "text": [
      "tensor([[1., 0., 1., 1.],\n",
      "        [1., 0., 1., 1.],\n",
      "        [1., 0., 1., 1.],\n",
      "        [1., 0., 1., 1.]])\n",
      "tensor([[1., 0., 1., 1.],\n",
      "        [1., 0., 1., 1.],\n",
      "        [1., 0., 1., 1.],\n",
      "        [1., 0., 1., 1.],\n",
      "        [1., 0., 1., 1.],\n",
      "        [1., 0., 1., 1.],\n",
      "        [1., 0., 1., 1.],\n",
      "        [1., 0., 1., 1.],\n",
      "        [1., 0., 1., 1.],\n",
      "        [1., 0., 1., 1.],\n",
      "        [1., 0., 1., 1.],\n",
      "        [1., 0., 1., 1.]])\n"
     ]
    }
   ],
   "source": [
    "tensor = torch.ones(4, 4)\n",
    "tensor[:,1] = 0\n",
    "print(tensor)\n",
    "print(torch.cat([tensor, tensor, tensor], dim=0))"
   ]
  },
  {
   "cell_type": "code",
   "execution_count": 12,
   "id": "64f96be7-d6fa-4b8e-b255-a73d2f5d453d",
   "metadata": {
    "scrolled": true
   },
   "outputs": [
    {
     "data": {
      "image/png": "[encoded data removed]",
      "text/plain": [
       "<Figure size 800x800 with 9 Axes>"
      ]
     },
     "metadata": {},
     "output_type": "display_data"
    }
   ],
   "source": [
    "labels_map = {\n",
    "    0: \"T-Shirt\",\n",
    "    1: \"Trouser\",\n",
    "    2: \"Pullover\",\n",
    "    3: \"Dress\",\n",
    "    4: \"Coat\",\n",
    "    5: \"Sandal\",\n",
    "    6: \"Shirt\",\n",
    "    7: \"Sneaker\",\n",
    "    8: \"Bag\",\n",
    "    9: \"Ankle Boot\",\n",
    "}\n",
    "figure = plt.figure(figsize=(8, 8))\n",
    "cols, rows = 3, 3\n",
    "for i in range(1, cols * rows + 1):\n",
    "    sample_idx = torch.randint(len(training_data), size=(1,)).item()\n",
    "    img, label = training_data[sample_idx]\n",
    "    figure.add_subplot(rows, cols, i)\n",
    "    plt.title(labels_map[label])\n",
    "    plt.axis(\"off\")\n",
    "    plt.imshow(img.squeeze(), cmap=\"gray\")\n",
    "plt.show()"
   ]
  },
  {
   "cell_type": "code",
   "execution_count": null,
   "id": "01c653c8-7717-4063-b4e6-cd64d34786fd",
   "metadata": {},
   "outputs": [],
   "source": []
  }
 ],
 "metadata": {
  "kernelspec": {
   "display_name": "Python 3 (ipykernel)",
   "language": "python",
   "name": "python3"
  },
  "language_info": {
   "codemirror_mode": {
    "name": "ipython",
    "version": 3
   },
   "file_extension": ".py",
   "mimetype": "text/x-python",
   "name": "python",
   "nbconvert_exporter": "python",
   "pygments_lexer": "ipython3",
   "version": "3.12.2"
  }
 },
 "nbformat": 4,
 "nbformat_minor": 5
}
